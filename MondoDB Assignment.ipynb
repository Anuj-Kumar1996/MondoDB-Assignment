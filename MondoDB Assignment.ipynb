{
 "cells": [
  {
   "cell_type": "code",
   "execution_count": null,
   "id": "c4705b42-05cd-4c62-a4bb-ef21356183ed",
   "metadata": {},
   "outputs": [],
   "source": [
    "# Q1. What is MongoDB? Explain non-relational databases in short. In which scenarios it is preferred to use\n",
    "# MongoDB over SQL databases?\n",
    "MongoDB is a NoSQL database that uses a document-oriented model to store data in JSON-like documents. It’s designed for high volume data storage and provides flexibility with schema-less data structures.\n",
    "Non-relational databases like MongoDB do not use tables and rows. Instead, they use collections and documents, allowing for dynamic schemas and horizontal scaling.\n",
    "Preferred Scenarios: MongoDB is ideal for applications requiring flexible data models, rapid development, and scalability, such as real-time analytics, content management systems, and applications with unstructured data."
   ]
  },
  {
   "cell_type": "markdown",
   "id": "884d51de-5c94-4777-81ca-a3444505ccb3",
   "metadata": {},
   "source": [
    "# Q2. State and Explain the features of MongoDB.\n",
    "Schema-less: Allows flexible data models.\n",
    "Scalability: Supports horizontal scaling through sharding.\n",
    "High Performance: Efficient for read/write operations.\n",
    "Indexing: Supports various types of indexes for fast query execution.\n",
    "Replication: Provides high availability through replica sets."
   ]
  },
  {
   "cell_type": "code",
   "execution_count": 1,
   "id": "23a8213e-a41f-4080-bf32-d59c9b553240",
   "metadata": {},
   "outputs": [
    {
     "ename": "ModuleNotFoundError",
     "evalue": "No module named 'pymongo'",
     "output_type": "error",
     "traceback": [
      "\u001b[1;31m---------------------------------------------------------------------------\u001b[0m",
      "\u001b[1;31mModuleNotFoundError\u001b[0m                       Traceback (most recent call last)",
      "Cell \u001b[1;32mIn[1], line 2\u001b[0m\n\u001b[0;32m      1\u001b[0m \u001b[38;5;66;03m# Q3. Write a code to connect MongoDB to Python. Also, create a database and a collection in MongoDB.\u001b[39;00m\n\u001b[1;32m----> 2\u001b[0m \u001b[38;5;28;01mfrom\u001b[39;00m \u001b[38;5;21;01mpymongo\u001b[39;00m \u001b[38;5;28;01mimport\u001b[39;00m MongoClient\n\u001b[0;32m      4\u001b[0m \u001b[38;5;66;03m# Connect to MongoDB\u001b[39;00m\n\u001b[0;32m      5\u001b[0m client \u001b[38;5;241m=\u001b[39m MongoClient(\u001b[38;5;124m'\u001b[39m\u001b[38;5;124mmongodb://localhost:27017/\u001b[39m\u001b[38;5;124m'\u001b[39m)\n",
      "\u001b[1;31mModuleNotFoundError\u001b[0m: No module named 'pymongo'"
     ]
    }
   ],
   "source": [
    "# Q3. Write a code to connect MongoDB to Python. Also, create a database and a collection in MongoDB.\n",
    "from pymongo import MongoClient\n",
    "\n",
    "# Connect to MongoDB\n",
    "client = MongoClient('mongodb://localhost:27017/')\n",
    "\n",
    "# Create a database\n",
    "db = client['mydatabase']\n",
    "\n",
    "# Create a collection\n",
    "collection = db['mycollection']"
   ]
  },
  {
   "cell_type": "code",
   "execution_count": null,
   "id": "b629821d-9830-4047-82fd-421722838797",
   "metadata": {},
   "outputs": [],
   "source": [
    "# Q4. Using the database and the collection created in question number 3, write a code to insert one record, and insert many records. Use the find() and find_one() methods to print the inserted records.\n",
    "# Insert one record\n",
    "collection.insert_one({'name': 'Alice', 'age': 25})\n",
    "\n",
    "# Insert many records\n",
    "collection.insert_many([\n",
    "    {'name': 'Bob', 'age': 30},\n",
    "    {'name': 'Charlie', 'age': 35}\n",
    "])\n",
    "\n",
    "# Find one record\n",
    "print(collection.find_one({'name': 'Alice'}))\n",
    "\n",
    "# Find all records\n",
    "for record in collection.find():\n",
    "    print(record)"
   ]
  },
  {
   "cell_type": "code",
   "execution_count": null,
   "id": "3329617c-cf3c-41c7-86d0-30a53f943693",
   "metadata": {},
   "outputs": [],
   "source": [
    "# Q5. Explain how you can use the find() method to query the MongoDB database. Write a simple code to demonstrate this.\n",
    "# Query for documents where age is greater than 25\n",
    "results = collection.find({'age': {'$gt': 25}})\n",
    "\n",
    "for doc in results:\n",
    "    print(doc)"
   ]
  },
  {
   "cell_type": "code",
   "execution_count": null,
   "id": "1fb5cb3b-3744-4df8-8097-55e69446ae72",
   "metadata": {},
   "outputs": [],
   "source": [
    "# Q6. Explain the sort() method. Give an example to demonstrate sorting in MongoDB.\n",
    "# Sort by age in ascending order\n",
    "sorted_docs = collection.find().sort('age', 1)\n",
    "\n",
    "for doc in sorted_docs:\n",
    "    print(doc)"
   ]
  },
  {
   "cell_type": "code",
   "execution_count": null,
   "id": "b1121f87-d14f-445d-b801-d843053204a7",
   "metadata": {},
   "outputs": [],
   "source": [
    "Q7. Explain why delete_one(), delete_many(), and drop() are used.\n",
    "delete_one(): Removes a single document that matches the filter criteria.\n",
    "delete_many(): Removes all documents that match the filter criteria.\n",
    "drop(): Deletes an entire collection from the database.\n",
    "These methods are used for managing data by removing unwanted documents or collections"
   ]
  }
 ],
 "metadata": {
  "kernelspec": {
   "display_name": "Python 3 (ipykernel)",
   "language": "python",
   "name": "python3"
  },
  "language_info": {
   "codemirror_mode": {
    "name": "ipython",
    "version": 3
   },
   "file_extension": ".py",
   "mimetype": "text/x-python",
   "name": "python",
   "nbconvert_exporter": "python",
   "pygments_lexer": "ipython3",
   "version": "3.12.4"
  }
 },
 "nbformat": 4,
 "nbformat_minor": 5
}
